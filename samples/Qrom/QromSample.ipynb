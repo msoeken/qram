{
 "cells": [
  {
   "cell_type": "code",
   "execution_count": 1,
   "metadata": {},
   "outputs": [
    {
     "data": {
      "application/json": "{\"LastUpdated\":\"2020-08-19T20:43:06.5847603+00:00\",\"IsCompleted\":true,\"Description\":\"Adding package QSharpCommunity.Libraries.Qram::1.0.0\",\"Subtask\":\"done\"}",
      "text/plain": [
       "Adding package QSharpCommunity.Libraries.Qram::1.0.0: done!"
      ]
     },
     "metadata": {},
     "output_type": "display_data"
    },
    {
     "data": {
      "application/json": "[\"Microsoft.Quantum.Standard::0.12.20072031\",\"QSharpCommunity.Libraries.Qram::1.0.0\"]",
      "text/html": [
       "<ul><li>Microsoft.Quantum.Standard::0.12.20072031</li><li>QSharpCommunity.Libraries.Qram::1.0.0</li></ul>"
      ],
      "text/plain": [
       "Microsoft.Quantum.Standard::0.12.20072031, QSharpCommunity.Libraries.Qram::1.0.0"
      ]
     },
     "execution_count": 1,
     "metadata": {},
     "output_type": "execute_result"
    }
   ],
   "source": [
    "%package QSharpCommunity.Libraries.Qram::1.0.0"
   ]
  },
  {
   "cell_type": "code",
   "execution_count": 5,
   "metadata": {},
   "outputs": [
    {
     "data": {
      "application/json": "[\"QromSample.GenerateMemoryData\",\"QromSample.QromQuerySample\",\"QromSample.QueryAndMeasureQROM\"]",
      "text/html": [
       "<ul><li>QromSample.GenerateMemoryData</li><li>QromSample.QromQuerySample</li><li>QromSample.QueryAndMeasureQROM</li></ul>"
      ],
      "text/plain": [
       "QromSample.GenerateMemoryData, QromSample.QromQuerySample, QromSample.QueryAndMeasureQROM"
      ]
     },
     "execution_count": 5,
     "metadata": {},
     "output_type": "execute_result"
    }
   ],
   "source": [
    "%workspace reload"
   ]
  },
  {
   "cell_type": "code",
   "execution_count": 6,
   "metadata": {},
   "outputs": [
    {
     "data": {
      "application/json": "5",
      "text/plain": [
       "5"
      ]
     },
     "execution_count": 6,
     "metadata": {},
     "output_type": "execute_result"
    }
   ],
   "source": [
    "%simulate QromSample.QromQuerySample queryAddress=2"
   ]
  }
 ],
 "metadata": {
  "kernelspec": {
   "display_name": "Q#",
   "language": "qsharp",
   "name": "iqsharp"
  },
  "language_info": {
   "file_extension": ".qs",
   "mimetype": "text/x-qsharp",
   "name": "qsharp",
   "version": "0.12"
  }
 },
 "nbformat": 4,
 "nbformat_minor": 4
}
