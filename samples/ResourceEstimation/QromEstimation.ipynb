{
 "cells": [
  {
   "cell_type": "code",
   "execution_count": 127,
   "metadata": {},
   "outputs": [
    {
     "name": "stdout",
     "output_type": "stream",
     "text": [
      "Adding package QSharpCommunity.Libraries.Qram."
     ]
    }
   ],
   "source": [
    "import numpy as np\n",
    "import collections, functools, operator\n",
    "import qsharp\n",
    "qsharp.packages.add(\"QSharpCommunity.Libraries.Qram\")\n",
    "from ResourceEstimation import QromQuerySample"
   ]
  },
  {
   "cell_type": "code",
   "execution_count": 128,
   "metadata": {},
   "outputs": [],
   "source": [
    "qsharp.reload()"
   ]
  },
  {
   "cell_type": "code",
   "execution_count": 129,
   "metadata": {},
   "outputs": [
    {
     "data": {
      "text/plain": [
       "['ResourceEstimation.ParseMemoryData',\n",
       " 'ResourceEstimation.QromQuerySample',\n",
       " 'ResourceEstimation.QueryAndMeasureQROM',\n",
       " 'test']"
      ]
     },
     "execution_count": 129,
     "metadata": {},
     "output_type": "execute_result"
    }
   ],
   "source": [
    "qsharp.get_available_operations()"
   ]
  },
  {
   "cell_type": "code",
   "execution_count": 130,
   "metadata": {},
   "outputs": [],
   "source": [
    "# Memory parameters\n",
    "n_address_bits = 5 \n",
    "n_output_bits = 2\n",
    "n_ones_addresses = 4\n",
    "n_random_memories = 10"
   ]
  },
  {
   "cell_type": "code",
   "execution_count": 138,
   "metadata": {},
   "outputs": [],
   "source": [
    "# Can't have more addresses with ones than there are addresses\n",
    "assert(n_ones_addresses < 2**n_address_bits)\n",
    "\n",
    "# Random memory generation\n",
    "resource_estimates = []\n",
    "\n",
    "for sample_memory in range(n_random_memories):\n",
    "    \n",
    "    # Generate random address \n",
    "    random_addresses = list(map(int, np.random.choice(range(2**n_address_bits), size=(n_ones_addresses, ), replace=False)))\n",
    "    \n",
    "    # Generate random values\n",
    "    random_values = [list(map(bool, np.random.choice([False, True], n_output_bits, replace=True))) \n",
    "                     for _ in range(len(random_addresses))]\n",
    "    \n",
    "    # Combine for MemoryCell-Like structure\n",
    "    raw_data = list(zip(random_addresses, random_values))\n",
    "    \n",
    "    # Print the memory contents if you want\n",
    "    #or memory_cell in data\n",
    "    #   print(f\"Address: {memory_cell[0]}\\t Contents: {memory_cell[1]}\")\n",
    "    \n",
    "    estimate = QromQuerySample.estimate_resources(rawData = raw_data, queryAddress=0)\n",
    "    \n",
    "    resource_estimates.append(estimate)\n",
    "    \n",
    "resource_estimate_total = dict(functools.reduce(operator.add, map(collections.Counter, resource_estimates)))\n",
    "resource_estimate_ave = {k:v/n_random_memories for k, v, in resource_estimate_total.items()}"
   ]
  },
  {
   "cell_type": "code",
   "execution_count": 139,
   "metadata": {},
   "outputs": [
    {
     "data": {
      "text/plain": [
       "{'CNOT': 2730,\n",
       " 'QubitClifford': 772,\n",
       " 'Measure': 70,\n",
       " 'T': 1911,\n",
       " 'Depth': 1248,\n",
       " 'Width': 100}"
      ]
     },
     "execution_count": 139,
     "metadata": {},
     "output_type": "execute_result"
    }
   ],
   "source": [
    "resource_estimate_total"
   ]
  },
  {
   "cell_type": "code",
   "execution_count": 140,
   "metadata": {},
   "outputs": [
    {
     "data": {
      "text/plain": [
       "{'CNOT': 273.0,\n",
       " 'QubitClifford': 77.2,\n",
       " 'Measure': 7.0,\n",
       " 'T': 191.1,\n",
       " 'Depth': 124.8,\n",
       " 'Width': 10.0}"
      ]
     },
     "execution_count": 140,
     "metadata": {},
     "output_type": "execute_result"
    }
   ],
   "source": [
    "resource_estimate_ave"
   ]
  },
  {
   "cell_type": "code",
   "execution_count": 141,
   "metadata": {},
   "outputs": [
    {
     "data": {
      "text/plain": [
       "{'iqsharp': LooseVersion ('0.12.20072031'),\n",
       " 'Jupyter Core': LooseVersion ('1.4.0.0'),\n",
       " '.NET Runtime': LooseVersion ('.NETCoreApp,Version=v3.1'),\n",
       " 'qsharp': LooseVersion ('0.12.2007.2031')}"
      ]
     },
     "execution_count": 141,
     "metadata": {},
     "output_type": "execute_result"
    }
   ],
   "source": [
    "qsharp.component_versions()"
   ]
  },
  {
   "cell_type": "code",
   "execution_count": null,
   "metadata": {},
   "outputs": [],
   "source": []
  }
 ],
 "metadata": {
  "kernelspec": {
   "display_name": "Python 3",
   "language": "python",
   "name": "python3"
  },
  "language_info": {
   "codemirror_mode": {
    "name": "ipython",
    "version": 3
   },
   "file_extension": ".py",
   "mimetype": "text/x-python",
   "name": "python",
   "nbconvert_exporter": "python",
   "pygments_lexer": "ipython3",
   "version": "3.7.6"
  }
 },
 "nbformat": 4,
 "nbformat_minor": 4
}
