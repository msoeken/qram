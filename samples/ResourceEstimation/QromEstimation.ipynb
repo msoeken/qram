{
 "cells": [
  {
   "cell_type": "code",
   "execution_count": 1,
   "metadata": {},
   "outputs": [
    {
     "name": "stdout",
     "output_type": "stream",
     "text": [
      "Preparing Q# environment...\n"
     ]
    },
    {
     "data": {
      "application/json": "{\"LastUpdated\":\"2020-08-25T17:18:54.600837-07:00\",\"IsCompleted\":false,\"Description\":\"Adding package QSharpCommunity.Libraries.Qram\",\"Subtask\":null}",
      "text/plain": [
       "Adding package QSharpCommunity.Libraries.Qram."
      ]
     },
     "metadata": {},
     "output_type": "display_data"
    }
   ],
   "source": [
    "import numpy as np\n",
    "import collections, functools, operator\n",
    "import qsharp\n",
    "qsharp.packages.add(\"QSharpCommunity.Libraries.Qram\")\n",
    "from ResourceEstimation import QromQuerySample"
   ]
  },
  {
   "cell_type": "code",
   "execution_count": 2,
   "metadata": {},
   "outputs": [
    {
     "data": {
      "application/json": "{\"LastUpdated\":\"2020-08-25T17:19:41.0351689-07:00\",\"IsCompleted\":false,\"Description\":\"Reloading workspace\",\"Subtask\":null}",
      "text/plain": [
       "Reloading workspace."
      ]
     },
     "metadata": {},
     "output_type": "display_data"
    }
   ],
   "source": [
    "qsharp.reload()"
   ]
  },
  {
   "cell_type": "code",
   "execution_count": 3,
   "metadata": {},
   "outputs": [
    {
     "data": {
      "text/plain": [
       "['ResourceEstimation.ParseMemoryData',\n",
       " 'ResourceEstimation.QromQuerySample',\n",
       " 'ResourceEstimation.QueryAndMeasureQROM']"
      ]
     },
     "execution_count": 3,
     "metadata": {},
     "output_type": "execute_result"
    }
   ],
   "source": [
    "qsharp.get_available_operations()"
   ]
  },
  {
   "cell_type": "code",
   "execution_count": 4,
   "metadata": {},
   "outputs": [],
   "source": [
    "# Memory parameters\n",
    "n_address_bits = 5 \n",
    "n_output_bits = 2\n",
    "n_ones_addresses = 4\n",
    "# Number of memories to test\n",
    "n_random_memories = 10"
   ]
  },
  {
   "cell_type": "code",
   "execution_count": 5,
   "metadata": {},
   "outputs": [],
   "source": [
    "# Can't have more addresses with ones than there are addresses\n",
    "assert(n_ones_addresses < 2**n_address_bits)\n",
    "\n",
    "# Random memory generation\n",
    "resource_estimates = []\n",
    "\n",
    "for sample_memory in range(n_random_memories):\n",
    "    \n",
    "    # Generate random address \n",
    "    random_addresses = list(map(int, np.random.choice(range(2**n_address_bits), size=(n_ones_addresses, ), replace=False)))\n",
    "    \n",
    "    # Generate random values\n",
    "    random_values = [list(map(bool, np.random.choice([False, True], n_output_bits, replace=True))) \n",
    "                     for _ in range(len(random_addresses))]\n",
    "    \n",
    "    # Combine for MemoryCell-Like structure\n",
    "    raw_data = list(zip(random_addresses, random_values))\n",
    "    \n",
    "    # Print the memory contents if you want\n",
    "    #or memory_cell in data\n",
    "    #   print(f\"Address: {memory_cell[0]}\\t Contents: {memory_cell[1]}\")\n",
    "    \n",
    "    estimate = QromQuerySample.estimate_resources(rawData = raw_data, queryAddress=0)\n",
    "    \n",
    "    resource_estimates.append(estimate)\n",
    "    \n",
    "resource_estimate_total = dict(functools.reduce(operator.add, map(collections.Counter, resource_estimates)))\n",
    "resource_estimate_ave = {k:v/n_random_memories for k, v, in resource_estimate_total.items()}"
   ]
  },
  {
   "cell_type": "code",
   "execution_count": 6,
   "metadata": {},
   "outputs": [
    {
     "data": {
      "text/plain": [
       "{'CNOT': 3150,\n",
       " 'QubitClifford': 842,\n",
       " 'Measure': 70,\n",
       " 'T': 2205,\n",
       " 'Depth': 1440,\n",
       " 'Width': 100}"
      ]
     },
     "execution_count": 6,
     "metadata": {},
     "output_type": "execute_result"
    }
   ],
   "source": [
    "resource_estimate_total"
   ]
  },
  {
   "cell_type": "code",
   "execution_count": 7,
   "metadata": {},
   "outputs": [
    {
     "data": {
      "text/plain": [
       "{'CNOT': 315.0,\n",
       " 'QubitClifford': 84.2,\n",
       " 'Measure': 7.0,\n",
       " 'T': 220.5,\n",
       " 'Depth': 144.0,\n",
       " 'Width': 10.0}"
      ]
     },
     "execution_count": 7,
     "metadata": {},
     "output_type": "execute_result"
    }
   ],
   "source": [
    "resource_estimate_ave"
   ]
  },
  {
   "cell_type": "code",
   "execution_count": 8,
   "metadata": {},
   "outputs": [
    {
     "data": {
      "text/plain": [
       "{'iqsharp': LooseVersion ('0.12.20082513'),\n",
       " 'Jupyter Core': LooseVersion ('1.4.0.0'),\n",
       " '.NET Runtime': LooseVersion ('.NETCoreApp,Version=v3.1'),\n",
       " 'qsharp': LooseVersion ('0.12.2008.2513')}"
      ]
     },
     "execution_count": 8,
     "metadata": {},
     "output_type": "execute_result"
    }
   ],
   "source": [
    "qsharp.component_versions()"
   ]
  },
  {
   "cell_type": "code",
   "execution_count": null,
   "metadata": {},
   "outputs": [],
   "source": []
  }
 ],
 "metadata": {
  "kernelspec": {
   "display_name": "Python 3",
   "language": "python",
   "name": "python3"
  },
  "language_info": {
   "codemirror_mode": {
    "name": "ipython",
    "version": 3
   },
   "file_extension": ".py",
   "mimetype": "text/x-python",
   "name": "python",
   "nbconvert_exporter": "python",
   "pygments_lexer": "ipython3",
   "version": "3.7.8"
  }
 },
 "nbformat": 4,
 "nbformat_minor": 4
}
